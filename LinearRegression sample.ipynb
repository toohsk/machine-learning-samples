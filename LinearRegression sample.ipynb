{
 "cells": [
  {
   "cell_type": "code",
   "execution_count": 1,
   "metadata": {
    "collapsed": true
   },
   "outputs": [],
   "source": [
    "import numpy as np\n",
    "import matplotlib.pyplot as plt\n",
    "from sklearn import linear_model, datasets"
   ]
  },
  {
   "cell_type": "code",
   "execution_count": 2,
   "metadata": {
    "collapsed": false
   },
   "outputs": [],
   "source": [
    "# 乱数によりデータを生成する\n",
    "np.random.seed(0)\n",
    "regdata = datasets.make_regression(100, 1, noise=20.0)"
   ]
  },
  {
   "cell_type": "code",
   "execution_count": 3,
   "metadata": {
    "collapsed": false
   },
   "outputs": [
    {
     "name": "stdout",
     "output_type": "stream",
     "text": [
      "core and itercept : [ 42.85335573] -1.62836365406\n",
      "score : 0.803335728656\n"
     ]
    }
   ],
   "source": [
    "# 学習を行いモデルのパラメータを表示\n",
    "lin = linear_model.LinearRegression()\n",
    "lin.fit(regdata[0], regdata[1])\n",
    "\n",
    "print(\"core and itercept :\", lin.coef_, lin.intercept_)\n",
    "print(\"score :\", lin.score(regdata[0], regdata[1]))"
   ]
  },
  {
   "cell_type": "code",
   "execution_count": 4,
   "metadata": {
    "collapsed": false
   },
   "outputs": [],
   "source": [
    "# グラフを描画\n",
    "xr = [-2.5, 2.5]\n",
    "plt.plot(xr, lin.coef_ * xr + lin.intercept_)\n",
    "plt.scatter(regdata[0], regdata[1])\n",
    "\n",
    "plt.show()"
   ]
  }
 ],
 "metadata": {
  "kernelspec": {
   "display_name": "Python 3",
   "language": "python",
   "name": "python3"
  },
  "language_info": {
   "codemirror_mode": {
    "name": "ipython",
    "version": 3
   },
   "file_extension": ".py",
   "mimetype": "text/x-python",
   "name": "python",
   "nbconvert_exporter": "python",
   "pygments_lexer": "ipython3",
   "version": "3.4.3"
  }
 },
 "nbformat": 4,
 "nbformat_minor": 0
}
